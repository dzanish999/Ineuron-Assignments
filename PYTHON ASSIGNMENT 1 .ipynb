{
 "cells": [
  {
   "cell_type": "code",
   "execution_count": null,
   "id": "7f7e5163",
   "metadata": {},
   "outputs": [],
   "source": [
    "1.\tWrite a Python program to print \\\"Hello Python\\\"?\"\n",
    "\n",
    "\n",
    "2.\tWrite a Python program to do arithmetical operations addition and\n",
    "Division ?\n",
    "\n",
    "\n",
    "3.\tWrite a Python program to find the area of a triangle?\n",
    "\n",
    "\n",
    "4.\tWrite a Python program to swap two variables\n",
    "\n",
    "\n",
    "5. Write a Python program to generate a random number?"
   ]
  },
  {
   "cell_type": "code",
   "execution_count": 7,
   "id": "53965b12",
   "metadata": {},
   "outputs": [
    {
     "name": "stdout",
     "output_type": "stream",
     "text": [
      "hello python\n"
     ]
    }
   ],
   "source": [
    ">>> print (\"hello python\")\n"
   ]
  },
  {
   "cell_type": "code",
   "execution_count": 8,
   "id": "b6d83896",
   "metadata": {},
   "outputs": [],
   "source": [
    "a = 10"
   ]
  },
  {
   "cell_type": "code",
   "execution_count": 9,
   "id": "a368d331",
   "metadata": {},
   "outputs": [],
   "source": [
    "b = 100"
   ]
  },
  {
   "cell_type": "code",
   "execution_count": 11,
   "id": "30b0a6c1",
   "metadata": {},
   "outputs": [
    {
     "data": {
      "text/plain": [
       "110"
      ]
     },
     "execution_count": 11,
     "metadata": {},
     "output_type": "execute_result"
    }
   ],
   "source": [
    "a + b "
   ]
  },
  {
   "cell_type": "code",
   "execution_count": 12,
   "id": "9e8eea69",
   "metadata": {},
   "outputs": [
    {
     "data": {
      "text/plain": [
       "0.1"
      ]
     },
     "execution_count": 12,
     "metadata": {},
     "output_type": "execute_result"
    }
   ],
   "source": [
    "a/b"
   ]
  },
  {
   "cell_type": "code",
   "execution_count": 13,
   "id": "4c4d558e",
   "metadata": {},
   "outputs": [
    {
     "name": "stdout",
     "output_type": "stream",
     "text": [
      "enter base:5\n",
      "enter height:10\n",
      "area of triangle is: 25.0\n"
     ]
    }
   ],
   "source": [
    "b = float (input(\"enter base:\"))\n",
    "h = float (input(\"enter height:\"))\n",
    "\n",
    "area = 0.5*b*h\n",
    "\n",
    "print(\"area of triangle is:\",area)"
   ]
  },
  {
   "cell_type": "code",
   "execution_count": 14,
   "id": "14bf3413",
   "metadata": {},
   "outputs": [],
   "source": [
    "a = 5 \n",
    "b = 10"
   ]
  },
  {
   "cell_type": "code",
   "execution_count": 15,
   "id": "fcbdd54e",
   "metadata": {},
   "outputs": [
    {
     "name": "stdout",
     "output_type": "stream",
     "text": [
      "a = 10\n",
      "b = 5\n"
     ]
    }
   ],
   "source": [
    "a,b = b,a \n",
    "print (\"a =\", a)\n",
    "print (\"b =\", b)\n",
    "\n"
   ]
  },
  {
   "cell_type": "code",
   "execution_count": 19,
   "id": "ac27fae6",
   "metadata": {},
   "outputs": [
    {
     "name": "stdout",
     "output_type": "stream",
     "text": [
      "0.9936524042345899\n"
     ]
    }
   ],
   "source": [
    "import random \n",
    "num = random.random()\n",
    "print (num)"
   ]
  },
  {
   "cell_type": "code",
   "execution_count": null,
   "id": "428599f1",
   "metadata": {},
   "outputs": [],
   "source": []
  }
 ],
 "metadata": {
  "kernelspec": {
   "display_name": "Python 3 (ipykernel)",
   "language": "python",
   "name": "python3"
  },
  "language_info": {
   "codemirror_mode": {
    "name": "ipython",
    "version": 3
   },
   "file_extension": ".py",
   "mimetype": "text/x-python",
   "name": "python",
   "nbconvert_exporter": "python",
   "pygments_lexer": "ipython3",
   "version": "3.9.12"
  }
 },
 "nbformat": 4,
 "nbformat_minor": 5
}
