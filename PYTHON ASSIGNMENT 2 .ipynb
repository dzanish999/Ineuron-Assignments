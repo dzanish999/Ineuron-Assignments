{
 "cells": [
  {
   "cell_type": "code",
   "execution_count": null,
   "id": "0045b06e",
   "metadata": {},
   "outputs": [],
   "source": [
    "1. Write a Python program to convert kilometers to miles?\n",
    "   \n",
    "\n",
    "2. Write a Python program to convert Celsius to Fahrenheit?\"\n",
    "   \n",
    "  \n",
    "3. Write a Python program to display calendar?\n",
    "   \n",
    "\n",
    "4. Write a Python program to solve quadratic equation?\n",
    "   \n",
    "\n",
    "5. Write a Python program to swap two variables without temp variable?"
   ]
  },
  {
   "cell_type": "code",
   "execution_count": null,
   "id": "ed59357e",
   "metadata": {},
   "outputs": [],
   "source": []
  },
  {
   "cell_type": "code",
   "execution_count": null,
   "id": "c1b2a87e",
   "metadata": {},
   "outputs": [],
   "source": []
  },
  {
   "cell_type": "code",
   "execution_count": 2,
   "id": "dd3174dd",
   "metadata": {},
   "outputs": [],
   "source": [
    "km = 10"
   ]
  },
  {
   "cell_type": "code",
   "execution_count": 3,
   "id": "1bc41f12",
   "metadata": {},
   "outputs": [],
   "source": [
    "miles = ( km *0.621371 )"
   ]
  },
  {
   "cell_type": "code",
   "execution_count": 5,
   "id": "54ed65bc",
   "metadata": {},
   "outputs": [
    {
     "name": "stdout",
     "output_type": "stream",
     "text": [
      "10.00 km = 6.21 miles\n"
     ]
    }
   ],
   "source": [
    "print(\"%.2f km = %.2f miles\" %(km , miles))"
   ]
  },
  {
   "cell_type": "code",
   "execution_count": null,
   "id": "7a4c086a",
   "metadata": {},
   "outputs": [],
   "source": []
  },
  {
   "cell_type": "code",
   "execution_count": null,
   "id": "8f3dc4eb",
   "metadata": {},
   "outputs": [],
   "source": []
  },
  {
   "cell_type": "code",
   "execution_count": 9,
   "id": "1390ee32",
   "metadata": {},
   "outputs": [],
   "source": [
    "celsius = 10"
   ]
  },
  {
   "cell_type": "code",
   "execution_count": 10,
   "id": "705baed0",
   "metadata": {},
   "outputs": [],
   "source": [
    "fahrenheit = (celsius * 1.8) + 32"
   ]
  },
  {
   "cell_type": "code",
   "execution_count": 11,
   "id": "aa28a051",
   "metadata": {},
   "outputs": [
    {
     "name": "stdout",
     "output_type": "stream",
     "text": [
      "10.00 celsius = 50.00 fahrenheit\n"
     ]
    }
   ],
   "source": [
    "print (\"%.2f celsius = %.2f fahrenheit\" % (celsius,fahrenheit))"
   ]
  },
  {
   "cell_type": "code",
   "execution_count": null,
   "id": "d11f5fe9",
   "metadata": {},
   "outputs": [],
   "source": []
  },
  {
   "cell_type": "code",
   "execution_count": null,
   "id": "0a059a6c",
   "metadata": {},
   "outputs": [],
   "source": []
  },
  {
   "cell_type": "code",
   "execution_count": 12,
   "id": "42ec8622",
   "metadata": {},
   "outputs": [],
   "source": [
    "import calendar"
   ]
  },
  {
   "cell_type": "code",
   "execution_count": 16,
   "id": "b4ed2788",
   "metadata": {},
   "outputs": [],
   "source": [
    "yy = 2001 \n",
    "mm = 9"
   ]
  },
  {
   "cell_type": "code",
   "execution_count": 17,
   "id": "7bab3904",
   "metadata": {},
   "outputs": [],
   "source": [
    "calendata = calendar.month(yy,mm)"
   ]
  },
  {
   "cell_type": "code",
   "execution_count": 18,
   "id": "41eb6338",
   "metadata": {},
   "outputs": [
    {
     "name": "stdout",
     "output_type": "stream",
     "text": [
      "   September 2001\n",
      "Mo Tu We Th Fr Sa Su\n",
      "                1  2\n",
      " 3  4  5  6  7  8  9\n",
      "10 11 12 13 14 15 16\n",
      "17 18 19 20 21 22 23\n",
      "24 25 26 27 28 29 30\n",
      "\n"
     ]
    }
   ],
   "source": [
    "print (calendata)"
   ]
  },
  {
   "cell_type": "code",
   "execution_count": null,
   "id": "238861df",
   "metadata": {},
   "outputs": [],
   "source": []
  },
  {
   "cell_type": "code",
   "execution_count": null,
   "id": "90345751",
   "metadata": {},
   "outputs": [],
   "source": []
  },
  {
   "cell_type": "code",
   "execution_count": 19,
   "id": "f4efb41a",
   "metadata": {},
   "outputs": [],
   "source": [
    "import cmath"
   ]
  },
  {
   "cell_type": "code",
   "execution_count": 20,
   "id": "af88fc9f",
   "metadata": {},
   "outputs": [
    {
     "name": "stdout",
     "output_type": "stream",
     "text": [
      "enter value of a :3\n",
      "enter value of b :4\n",
      "enter value of c :5\n"
     ]
    }
   ],
   "source": [
    "a = float (input(\"enter value of a :\"))\n",
    "b = float (input(\"enter value of b :\"))\n",
    "c = float (input(\"enter value of c :\"))"
   ]
  },
  {
   "cell_type": "code",
   "execution_count": 21,
   "id": "9a009590",
   "metadata": {},
   "outputs": [],
   "source": [
    "d = (b**2) - (4*a*c)"
   ]
  },
  {
   "cell_type": "code",
   "execution_count": 22,
   "id": "842cfd85",
   "metadata": {},
   "outputs": [],
   "source": [
    "root1 = (-b-cmath.sqrt(d))/(2*a)\n",
    "root2 = (-b+cmath.sqrt(d))/(2*a)"
   ]
  },
  {
   "cell_type": "code",
   "execution_count": 23,
   "id": "f207c08b",
   "metadata": {},
   "outputs": [
    {
     "name": "stdout",
     "output_type": "stream",
     "text": [
      "\n",
      "root 1 :  (-0.6666666666666666-1.1055415967851332j)\n",
      "\n",
      "root 2 :  (-0.6666666666666666+1.1055415967851332j)\n"
     ]
    }
   ],
   "source": [
    "print (\"\\nroot 1 : \",root1)\n",
    "print (\"\\nroot 2 : \",root2)"
   ]
  },
  {
   "cell_type": "code",
   "execution_count": null,
   "id": "52bc9ebc",
   "metadata": {},
   "outputs": [],
   "source": []
  },
  {
   "cell_type": "code",
   "execution_count": null,
   "id": "d01c2c4f",
   "metadata": {},
   "outputs": [],
   "source": []
  },
  {
   "cell_type": "code",
   "execution_count": 24,
   "id": "ad8faf55",
   "metadata": {},
   "outputs": [
    {
     "name": "stdout",
     "output_type": "stream",
     "text": [
      "enter the value5\n",
      "enter the value10\n"
     ]
    }
   ],
   "source": [
    "a = int(input(\"enter the value\"))\n",
    "b = int(input(\"enter the value\"))"
   ]
  },
  {
   "cell_type": "code",
   "execution_count": 25,
   "id": "1964eb67",
   "metadata": {},
   "outputs": [],
   "source": [
    "a = a+b \n",
    "b = a-b\n",
    "a = a-b\n"
   ]
  },
  {
   "cell_type": "code",
   "execution_count": 26,
   "id": "d13b0edc",
   "metadata": {},
   "outputs": [
    {
     "name": "stdout",
     "output_type": "stream",
     "text": [
      "the value of a is 10\n",
      "the value of a is 5\n"
     ]
    }
   ],
   "source": [
    "print(\"the value of a is\",a)\n",
    "print(\"the value of a is\",b)"
   ]
  },
  {
   "cell_type": "code",
   "execution_count": null,
   "id": "e7906016",
   "metadata": {},
   "outputs": [],
   "source": []
  },
  {
   "cell_type": "code",
   "execution_count": null,
   "id": "7773a6de",
   "metadata": {},
   "outputs": [],
   "source": []
  }
 ],
 "metadata": {
  "kernelspec": {
   "display_name": "Python 3 (ipykernel)",
   "language": "python",
   "name": "python3"
  },
  "language_info": {
   "codemirror_mode": {
    "name": "ipython",
    "version": 3
   },
   "file_extension": ".py",
   "mimetype": "text/x-python",
   "name": "python",
   "nbconvert_exporter": "python",
   "pygments_lexer": "ipython3",
   "version": "3.9.12"
  }
 },
 "nbformat": 4,
 "nbformat_minor": 5
}
